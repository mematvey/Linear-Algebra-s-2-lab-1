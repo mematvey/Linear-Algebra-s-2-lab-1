{
  "cells": [
    {
      "cell_type": "code",
      "execution_count": 1,
      "metadata": {
        "id": "9U7McSHyqOAi"
      },
      "outputs": [],
      "source": [
        "import pytest\n",
        "from typing import List, Union\n",
        "import matplotlib.pyplot as plt\n",
        "import random"
      ]
    },
    {
      "cell_type": "code",
      "execution_count": 2,
      "metadata": {
        "id": "ppKoKuniHFb7"
      },
      "outputs": [],
      "source": [
        "class Matrix:\n",
        "    def __init__(self, data: List[List[float]]):\n",
        "        \"\"\"Инициализация матрицы с проверкой корректности входных\n",
        "        данных и размеров.\n",
        "        Args:\n",
        "            data (List[List[float]]): элементы матрицы в формате [строки[элементы столбцов]].\n",
        "        Raises:\n",
        "            (TypeError): если данные содержат не только списки.\n",
        "            (ValueError): некорретно заданы данные: или пустой список, или не совпадают\n",
        "                размеры строк.\n",
        "        \"\"\"\n",
        "        if any(type(row) != list for row in data):\n",
        "            raise TypeError(\"Данные содержат не только списки.\")\n",
        "        if not data or not all(len(row) == len(data[0]) for row in data):\n",
        "            raise ValueError(\"Некорректные размеры матрицы.\")\n",
        "        self.data = data\n",
        "        self.n_rows = len(data)\n",
        "        self.n_cols = len(data[0]) if self.n_rows > 0 else 0\n",
        "\n",
        "    def __getitem__(self, key: int) -> List[float]:\n",
        "        return self.data[key]\n",
        "\n",
        "    def __len__(self) -> int:\n",
        "        return len(self.data)\n",
        "\n",
        "    def __str__(self) -> str:\n",
        "        \"\"\"Вывод матрицы в красивом формате\"\"\"\n",
        "        if self.n_rows == 0 or self.n_cols == 0:\n",
        "            return \"Matrix([])\"\n",
        "\n",
        "        rows_str = []\n",
        "        try:\n",
        "            for row in self.data:\n",
        "                row_str = \" \".join(f\"{elem:g}\" for elem in row)\n",
        "                rows_str.append(f\"{row_str}\")\n",
        "        except TypeError:\n",
        "            for row in self.data:\n",
        "                row_str = \" \".join(f\"{elem}\" for elem in row)\n",
        "                rows_str.append(f\"{row_str}\")\n",
        "\n",
        "        if len(rows_str) == 1:\n",
        "            return f\"Matrix({rows_str[0]})\"\n",
        "\n",
        "        lines = []\n",
        "        lines.append(f\" [{rows_str[0]}\")\n",
        "        for r in rows_str[1:-1]:\n",
        "            lines.append(f\"  {r}\")\n",
        "\n",
        "        lines.append(f\"  {rows_str[-1]}]\")\n",
        "        return \"Matrix(\\n\" + \"\\n\".join(lines) + \")\"\n",
        "\n",
        "    def __repr__(self) -> str:\n",
        "        return f\"Matrix({self.data})\"\n",
        "\n",
        "    def multiply_by_matrix(self, data2: 'Matrix') -> 'Matrix':\n",
        "        \"\"\"Метод для умножения данной матрицы справа на матрицу data2.\n",
        "        Args:\n",
        "            data2 (Matrix): матрица, на которую умножаем справа.\n",
        "        Returns:\n",
        "            Matrix: результат умножения.\n",
        "        Raises:\n",
        "            (ValueError): если у матриц не подходящие размеры.\n",
        "        \"\"\"\n",
        "        if self.n_cols != data2.n_rows:\n",
        "            raise ValueError(\"У матриц не подходящие размеры.\")\n",
        "        result = [\n",
        "            [\n",
        "                sum(self.data[i][k] * data2[k][j] for k in range(self.n_cols))\n",
        "                for j in range(data2.n_cols)\n",
        "            ]\n",
        "            for i in range(self.n_rows)\n",
        "        ]\n",
        "        return Matrix(result)\n",
        "\n",
        "    def multiply_by_scalar(self, scalar) -> 'Matrix':\n",
        "        \"\"\"Возвращает матрицу, умноженную на скаляр. Не меняет исходную.\n",
        "        Args:\n",
        "            scalar (float): скаляр.\n",
        "        Returns:\n",
        "            (Matrix): матрица, умноженная на скаляр.\n",
        "        \"\"\"\n",
        "        result = [[val * scalar for val in row] for row in self.data]\n",
        "        return Matrix(result)\n",
        "\n",
        "    def add_matrix(self, data2: 'Matrix') -> 'Matrix':\n",
        "        \"\"\"Возвращает сумму матриц. Не меняет исходную.\n",
        "        Args:\n",
        "            data2 (Matrix): вторая матрица для сложения.\n",
        "        Returns:\n",
        "            (Matrix): результат сложения.\n",
        "        Raises:\n",
        "            (ValueError): если у матриц не совпадают размеры.\n",
        "        \"\"\"\n",
        "        if self.n_rows != data2.n_rows:\n",
        "            raise ValueError(\"У матриц не совпадает количество строк.\")\n",
        "        if self.n_cols != data2.n_cols:\n",
        "            raise ValueError(\"У матриц не совпадает количество столбцов.\")\n",
        "\n",
        "        result = [[self.data[i][j] + data2.data[i][j] for j in range(len(self.data[0]))] for i in range(len(self.data))]\n",
        "        return Matrix(result)\n",
        "\n",
        "    def add_scalar_diag(self, scalar: float) -> 'Matrix':\n",
        "        \"\"\"Возвращает матрицу с прибавленным элементом на главную диагональ. Не меняет исходную.\n",
        "        Args:\n",
        "            scalaer (float): скаляр.\n",
        "        Returns:\n",
        "            (Matrix): результат.\n",
        "        Raises:\n",
        "            (ValueError): если матрица не диагональная.\n",
        "        \"\"\"\n",
        "        if self.n_rows != self.n_cols:\n",
        "            raise ValueError(\"Матрица не диагональная.\")\n",
        "\n",
        "        result = [[self.data[i][j] + (scalar * int(i == j)) for j in range(len(self.data[0]))] for i in range(len(self.data))]\n",
        "        return Matrix(result)\n",
        "\n",
        "    def norm(self) -> float:\n",
        "        \"\"\"Возвращает норму матрицы или вектора (сумму квадратов элементов).\n",
        "        Returns:\n",
        "            (float): норма матрицы или вектора.\n",
        "        \"\"\"\n",
        "        norm = sum(sum(elem**2 for elem in row) for row in self.data)\n",
        "        return norm**0.5\n",
        "\n",
        "    def transpose(self) -> 'Matrix':\n",
        "        \"\"\"Возвращает транспонированную матрицу.\n",
        "        Returns:\n",
        "            (Matrix): транспонированная матрица.\n",
        "        \"\"\"\n",
        "        transposed_data = [[self.data[j][i] for j in range(self.n_rows)] for i in range(self.n_cols)]\n",
        "        return Matrix(transposed_data)\n",
        "\n",
        "    def column_means(self) -> list[float]:\n",
        "        \"\"\"Возвращает средние значения по каждому столбцу, игнорируя None.\"\"\"\n",
        "        if self.n_rows == 0:\n",
        "            return []\n",
        "        transposed = self.transpose().data\n",
        "        means = []\n",
        "        for col in transposed:\n",
        "            filtered_col = [x for x in col if x is not None]\n",
        "            if not filtered_col:\n",
        "                means.append(0.0)\n",
        "            else:\n",
        "                means.append(sum(filtered_col) / len(filtered_col))\n",
        "        return means\n",
        "\n",
        "    def std(self) -> list[float]:\n",
        "        \"\"\"Возвращает стандартное отклонение для каждого столбца, игнорируя None.\"\"\"\n",
        "        if self.n_rows == 0:\n",
        "            return []\n",
        "        means = self.column_means()\n",
        "        transposed = self.transpose().data\n",
        "        stds = []\n",
        "        for i, col in enumerate(transposed):\n",
        "            filtered_col = [x for x in col if x is not None]\n",
        "            n = len(filtered_col)\n",
        "            variance = sum((x - means[i])**2 for x in filtered_col) / n\n",
        "            stds.append(variance ** 0.5)\n",
        "        return stds\n",
        "\n",
        "    def to_list(self, like_vector: bool=False) -> List[List[float]]:\n",
        "        '''Возвращает список из строк матрицы.\n",
        "        Args:\n",
        "            like_vector (bool): вернуть элементы просто как float, а не [float]\n",
        "        Returns:\n",
        "            (List[List[float]]): список из строк матрицы.\n",
        "        '''\n",
        "        if like_vector:\n",
        "            return [elem[0] for elem in self.data]\n",
        "        return self.data"
      ]
    },
    {
      "cell_type": "markdown",
      "metadata": {
        "id": "2LBXAVYbqtki"
      },
      "source": [
        "# Задание 1 (Easy) Реализовать метод Гаусса"
      ]
    },
    {
      "cell_type": "code",
      "execution_count": 3,
      "metadata": {
        "id": "PcHy-cJ2UUT-"
      },
      "outputs": [],
      "source": [
        "def gauss_move(Ab: List[List[float]]) -> List[List[float]]:\n",
        "    \"\"\"\n",
        "    Приведение расширенной матрицы [A|b] к ступенчатому виду методом Гаусса.\n",
        "    Args:\n",
        "        Ab (List[List[float]]): Расширенная матрица системы\n",
        "            линейных уравнений, где последний столбец — свободные члены.\n",
        "    Returns:\n",
        "        (List[List[float]]): Матрица в ступенчатом виде.\n",
        "    \"\"\"\n",
        "    n = len(Ab)\n",
        "    m = len(Ab[0])\n",
        "\n",
        "    for col in range(n):\n",
        "        max_row = max(range(col, n), key=lambda row: abs(Ab[row][col]))\n",
        "        Ab[col], Ab[max_row] = Ab[max_row], Ab[col]\n",
        "\n",
        "        pivot = Ab[col][col]\n",
        "        if abs(pivot) < 1e-5:\n",
        "            continue\n",
        "\n",
        "        for j in range(col, m):\n",
        "            Ab[col][j] /= pivot\n",
        "\n",
        "        for row in range(n):\n",
        "            if row != col and abs(Ab[row][col]) > 1e-5:\n",
        "                factor = Ab[row][col]\n",
        "                for j in range(col, m):\n",
        "                    Ab[row][j] -= factor * Ab[col][j]\n",
        "\n",
        "    return Ab"
      ]
    },
    {
      "cell_type": "code",
      "execution_count": 4,
      "metadata": {
        "id": "4uOQAfxfy2Dw"
      },
      "outputs": [],
      "source": [
        "def gauss_solver(A: Matrix, b: Matrix) -> List[Matrix]:\n",
        "    \"\"\"\n",
        "    Решает СЛАУ Ax = b методом Гаусса.\n",
        "    Args:\n",
        "        A (Matrix): матрица А.\n",
        "        b (Matrix): вектор b.\n",
        "    Returns:\n",
        "        (List[Matrix]): единственное решение или базис решений однородной системы,\n",
        "            если решений бесконечно много.\n",
        "    \"\"\"\n",
        "    if A.n_rows != A.n_cols:\n",
        "        raise ValueError(\"Матрица А не квадратная\")\n",
        "    elif A.n_rows != b.n_rows:\n",
        "        raise ValueError(\"Некорректные размеры A и b: кол-во строк A не совпадает с b\")\n",
        "    elif b.n_cols != 1:\n",
        "        raise ValueError(\"Матрица b не вектор\")\n",
        "\n",
        "    n = A.n_rows\n",
        "    Ab = [A[i] + [b[i][0]] for i in range(n)]\n",
        "    Ab = gauss_move(Ab)\n",
        "\n",
        "    m = len(Ab[0]) - 1\n",
        "    pivot_row = [-1] * m  # pivot_row[j] = i означает, что переменная j ведёт строку i\n",
        "    for i in range(n):\n",
        "        for j in range(m):\n",
        "            if abs(Ab[i][j]) > 1e-6:\n",
        "                pivot_row[j] = i\n",
        "                break\n",
        "\n",
        "    # несовместность\n",
        "    for i in range(n):\n",
        "        if all(abs(Ab[i][j]) < 1e-6 for j in range(m)) and abs(Ab[i][m]) > 1e-6:\n",
        "            raise ValueError(\"Система несовместна\")\n",
        "\n",
        "    # найдём частное решение (обнуляем свободные переменные)\n",
        "    x_particular = [0] * m\n",
        "    for i in reversed(range(n)):\n",
        "        # ищем ведущую переменную в строке\n",
        "        lead = next((j for j in range(m) if abs(Ab[i][j]) > 1e-6), None)\n",
        "        if lead is None:\n",
        "            continue\n",
        "        rhs = Ab[i][m]\n",
        "        for j in range(lead + 1, m):\n",
        "            rhs -= Ab[i][j] * x_particular[j]\n",
        "        x_particular[lead] = rhs / Ab[i][lead]\n",
        "\n",
        "    # найдём базис решений однородной системы\n",
        "    free_vars = [j for j in range(m) if pivot_row[j] == -1]\n",
        "    if len(free_vars) == 0:\n",
        "        return [Matrix([[var] for var in x_particular])]\n",
        "\n",
        "    basis = []\n",
        "    for free in free_vars:\n",
        "        x_free = [0] * m\n",
        "        x_free[free] = 1.0\n",
        "        for i in reversed(range(n)):\n",
        "            lead = next((j for j in range(m) if abs(Ab[i][j]) > 1e-6), None)\n",
        "            if lead is None:\n",
        "                continue\n",
        "            rhs = 0\n",
        "            for j in range(lead + 1, m):\n",
        "                rhs -= Ab[i][j] * x_free[j]\n",
        "            x_free[lead] = rhs / Ab[i][lead]\n",
        "        basis.append([[val] for val in x_free])\n",
        "\n",
        "    # финальный результат: частное решение + базис (если он есть)\n",
        "    result = []\n",
        "    for i in range(len(basis)):\n",
        "        result.append(Matrix(\n",
        "            [[basis[i][j][0] + x_particular[j]] for j in range(len(x_particular))]))\n",
        "    return result"
      ]
    },
    {
      "cell_type": "code",
      "execution_count": 5,
      "metadata": {
        "id": "qdbcmMkkNWlH"
      },
      "outputs": [],
      "source": [
        "def test_gauss_solver_unique_solution():\n",
        "    \"\"\"Проверяет случай единственного решения.\"\"\"\n",
        "    A = Matrix([[2, 1], [1, -1]])\n",
        "    b = Matrix([[4], [1]])\n",
        "    solutions = gauss_solver(A, b)\n",
        "    assert len(solutions) == 1\n",
        "    # Проверяем, что A * solution ≈ b\n",
        "    Ax = Matrix([[sum(A[i][j] * solutions[0][j][0] for j in range(2))] for i in range(2)])\n",
        "    assert all(abs(Ax[i][0] - b[i][0]) < 1e-6 for i in range(2))\n",
        "\n",
        "def test_gauss_solver_inconsistent():\n",
        "    \"\"\"Проверяет несовместную систему.\"\"\"\n",
        "    A = Matrix([[1, 1], [1, 1]])\n",
        "    b = Matrix([[1], [2]])\n",
        "    with pytest.raises(ValueError):\n",
        "        gauss_solver(A, b)\n",
        "\n",
        "def test_gauss_solver_infinite_solutions():\n",
        "    \"\"\"Проверяет бесконечное множество решений.\"\"\"\n",
        "    A = Matrix([[1, 1, 1], [2, 2, 2], [2, 2, 2]])\n",
        "    b = Matrix([[1], [2], [2]])\n",
        "    excepted_basis = [[0, 0, 1], [0, 1, 0]]\n",
        "    solution_basis = gauss_solver(A, b)\n",
        "\n",
        "    for i in range(len(solution_basis)):\n",
        "        solution_vector = solution_basis[i].transpose().to_list()\n",
        "        linearly_dependent = excepted_basis + solution_vector\n",
        "        gaussed = gauss_move(linearly_dependent)\n",
        "        assert any(all(abs(gaussed[j][i]) < 1e-6 for i in range(3)) for j in range(3))\n",
        "\n",
        "test_gauss_solver_unique_solution()\n",
        "test_gauss_solver_inconsistent()\n",
        "test_gauss_solver_infinite_solutions()"
      ]
    },
    {
      "cell_type": "code",
      "execution_count": 6,
      "metadata": {
        "colab": {
          "base_uri": "https://localhost:8080/"
        },
        "id": "foLKDQeKR9VM",
        "outputId": "d2837f48-4575-49c4-f6fb-023192731ac7"
      },
      "outputs": [
        {
          "name": "stdout",
          "output_type": "stream",
          "text": [
            "Matrix(\n",
            " [0.0481928\n",
            "  -0.0843373\n",
            "  1.20482])\n"
          ]
        }
      ],
      "source": [
        "A = Matrix([[1, 3, 1], [-5, 2, 2], [2, -1, 4]])\n",
        "b = Matrix([[1], [2], [5]])\n",
        "solutions = gauss_solver(A, b)\n",
        "\n",
        "for solution in solutions:\n",
        "    print(solution)"
      ]
    },
    {
      "cell_type": "markdown",
      "metadata": {
        "id": "YVGb-QFJsDIg"
      },
      "source": [
        "# Задание 2 (Easy) Реализовать функцию центрирования данных"
      ]
    },
    {
      "cell_type": "code",
      "execution_count": 7,
      "metadata": {
        "id": "_bZ2Yik-qrt0"
      },
      "outputs": [],
      "source": [
        "def center_data(X: Matrix, means: List[float]=None) -> Matrix:\n",
        "    \"\"\"Центрирует матрицу данных X (n*m) вычитанием среднего по каждому столбцу.\n",
        "    Args:\n",
        "        X (Matrix): матрица для центрирования.\n",
        "        means (List[float]): заданные вручную средние.\n",
        "    Returns:\n",
        "        (Matrix): новая центрированная матрица той же размерности.\n",
        "    \"\"\"\n",
        "    if X.n_rows == 0 or X.n_cols == 0:\n",
        "        return Matrix([[]])\n",
        "\n",
        "    if not means:\n",
        "        means = [\n",
        "            sum(X[i][j] if X[i][j] != None else 0 for i in range(X.n_rows)) / X.n_rows\n",
        "            for j in range(X.n_cols)\n",
        "        ]\n",
        "\n",
        "    try:\n",
        "        centered_data = [\n",
        "            [X[i][j] - means[j] for j in range(X.n_cols)]\n",
        "            for i in range(X.n_rows)\n",
        "        ]\n",
        "    except TypeError:\n",
        "        raise TypeError(\"Матрица содержит None значения.\")\n",
        "    return Matrix(centered_data)"
      ]
    },
    {
      "cell_type": "code",
      "execution_count": 8,
      "metadata": {
        "id": "v23Lr3iAsNiZ"
      },
      "outputs": [],
      "source": [
        "def test_center_data():\n",
        "    \"\"\"Проверяет центрирование матрицы.\"\"\"\n",
        "    X = Matrix([[1, 2, 3], [4, 5, 6], [7, 8, 9]])\n",
        "    X_centered = center_data(X)\n",
        "    expected_data = [\n",
        "        [-3, -3, -3],\n",
        "        [ 0,  0,  0],\n",
        "        [ 3,  3,  3]\n",
        "    ]\n",
        "    assert X_centered.data == expected_data\n",
        "\n",
        "def test_center_data_single_row():\n",
        "    \"\"\"Проверяет центрирование матрицы с одной строкой (должна остаться нулевой).\"\"\"\n",
        "    X = Matrix([[10, 20, 30]])\n",
        "    X_centered = center_data(X)\n",
        "    assert X_centered.data == [[0, 0, 0]]\n",
        "\n",
        "def test_center_data_empty():\n",
        "    \"\"\"Проверяет обработку пустой матрицы.\"\"\"\n",
        "    X = Matrix([[]])\n",
        "    X_centered = center_data(X)\n",
        "    assert X_centered.data == [[]]\n",
        "\n",
        "test_center_data()\n",
        "test_center_data_single_row()\n",
        "test_center_data_empty()"
      ]
    },
    {
      "cell_type": "code",
      "execution_count": 9,
      "metadata": {
        "colab": {
          "base_uri": "https://localhost:8080/"
        },
        "id": "nwNiFjfKsNpp",
        "outputId": "425788a9-3986-48e7-f593-4e5f38ec5800"
      },
      "outputs": [
        {
          "name": "stdout",
          "output_type": "stream",
          "text": [
            "Matrix(\n",
            " [-3 -3 -3\n",
            "  0 0 0\n",
            "  3 3 3])\n"
          ]
        }
      ],
      "source": [
        "X = Matrix([[1, 2, 3], [4, 5, 6], [7, 8, 9]])\n",
        "print(center_data(X))"
      ]
    },
    {
      "cell_type": "markdown",
      "metadata": {
        "id": "3rqWSPnDs8KX"
      },
      "source": [
        "# Задание 3 (Easy) Вычислить матрицу ковариаций"
      ]
    },
    {
      "cell_type": "markdown",
      "metadata": {
        "id": "gdsUK3rqwKEP"
      },
      "source": [
        "$\\text{Cov}(x, y) = \\frac{\\sum_{i=1}^{N} (x_i - \\bar{x})(y_i - \\bar{y})}{N}$"
      ]
    },
    {
      "cell_type": "code",
      "execution_count": 10,
      "metadata": {
        "id": "L11xRrBZtAwb"
      },
      "outputs": [],
      "source": [
        "def covariance_matrix(X_centered: Matrix) -> Matrix:\n",
        "    \"\"\"\n",
        "    Вычисляет матрицу ковариаций для центрированной матрицы X_centered (n*m).\n",
        "    Args:\n",
        "        X_centered (Matrix): центрированная матрица, для которой находим\n",
        "            матрицу ковариации.\n",
        "    Returns:\n",
        "        (Matrix): матрица ковариаций C (m*m).\n",
        "    \"\"\"\n",
        "    if X_centered.n_rows <= 1:\n",
        "        raise ValueError(\"Матрица данных должна содержать более одной строки\")\n",
        "\n",
        "    # Транспонируем матрицу X_centered и перемножаем\n",
        "    X_transposed = X_centered.transpose()\n",
        "    cov_data = X_transposed.multiply_by_matrix(X_centered)\n",
        "\n",
        "    # Умножаем на 1/(n-1)\n",
        "    return cov_data.multiply_by_scalar(1/(X_centered.n_rows - 1))"
      ]
    },
    {
      "cell_type": "code",
      "execution_count": 11,
      "metadata": {
        "id": "k4kNOri_tqWd"
      },
      "outputs": [],
      "source": [
        "def test_covariance_matrix():\n",
        "    \"\"\"Проверяет вычисление матрицы ковариаций.\"\"\"\n",
        "    X_centered = Matrix([\n",
        "        [-3, -3, -3],\n",
        "        [ 0,  0,  0],\n",
        "        [ 3,  3,  3]\n",
        "    ])\n",
        "    C = covariance_matrix(X_centered)\n",
        "    expected_data = [\n",
        "        [9, 9, 9],\n",
        "        [9, 9, 9],\n",
        "        [9, 9, 9]\n",
        "    ]\n",
        "    assert C.data == expected_data\n",
        "\n",
        "def test_covariance_matrix_small():\n",
        "    \"\"\"Проверяет матрицу ковариаций для маленькой матрицы.\"\"\"\n",
        "    X_centered = Matrix([\n",
        "        [1, 2],\n",
        "        [-1, -2]\n",
        "    ])\n",
        "    C = covariance_matrix(X_centered)\n",
        "    expected_data = [\n",
        "        [2.0, 4.0],\n",
        "        [4.0, 8.0]\n",
        "    ]\n",
        "    assert C.data == expected_data\n",
        "\n",
        "def test_covariance_matrix_error():\n",
        "    \"\"\"Проверяет обработку случая с одной строкой.\"\"\"\n",
        "    X_centered = Matrix([[1, 2, 3]])\n",
        "    with pytest.raises(ValueError):\n",
        "        covariance_matrix(X_centered)\n",
        "\n",
        "test_covariance_matrix()\n",
        "test_covariance_matrix_small()\n",
        "test_covariance_matrix_error()"
      ]
    },
    {
      "cell_type": "code",
      "execution_count": 12,
      "metadata": {
        "colab": {
          "base_uri": "https://localhost:8080/"
        },
        "id": "oicU0SBitqkB",
        "outputId": "63ca2737-ea6b-4ebd-baeb-f3fd21f0a7d1"
      },
      "outputs": [
        {
          "name": "stdout",
          "output_type": "stream",
          "text": [
            "Matrix(\n",
            " [31 -10.5 -15\n",
            "  -10.5 9 0\n",
            "  -15 0 12])\n"
          ]
        }
      ],
      "source": [
        "X = Matrix([\n",
        "    [1, -3, 2],\n",
        "    [ 5,  0,  -4],\n",
        "    [ -6,  3,  2]\n",
        "])\n",
        "print(covariance_matrix(X))"
      ]
    },
    {
      "cell_type": "markdown",
      "metadata": {
        "id": "38-TKnXt0B4y"
      },
      "source": [
        "# Задание (Normal): Найти собственные значения матрицы"
      ]
    },
    {
      "cell_type": "code",
      "execution_count": 13,
      "metadata": {
        "id": "v_jeC_0s1kUJ"
      },
      "outputs": [],
      "source": [
        "def characteristic_polynomial(matrix: Matrix) -> List[float]:\n",
        "    \"\"\"\n",
        "    Вычисляет характеристический многочлен квадратной матрицы.\n",
        "    Характеристический многочлен матрицы A определяется как det(A - tE),\n",
        "    где t - собственное значение, а E - единичная матрица.\n",
        "    Args:\n",
        "        matrix (Matrix): квадратная матрица.\n",
        "    Returns:\n",
        "        (List[float]) Коэффициенты характеристического многочлена, начиная со старшей степени\n",
        "                      (коэффициент при lambda^n, lambda^(n-1), ..., lambda^0).\n",
        "                      Например, для lambda^2 - 4*lambda + 3 вернется [1, -4, 3].\n",
        "    \"\"\"\n",
        "    n = len(matrix)\n",
        "\n",
        "\n",
        "    def subtract_lambda_identity(mat_in):\n",
        "        \"\"\"Создает матрицу A - lambda*E, где lambda - символьная переменная.\"\"\"\n",
        "        mat_lambda = [[0] * n for _ in range(n)]\n",
        "        for i in range(n):\n",
        "            for j in range(n):\n",
        "                if i == j:\n",
        "                    # Элемент на диагонали: a_ii - lambda, представлен как полином [-1, a_ii]\n",
        "                    mat_lambda[i][j] = [-1, mat_in[i][j]]\n",
        "                else:\n",
        "                    # Внедиагональный элемент: a_ij, представлен как полином [a_ij]\n",
        "                    mat_lambda[i][j] = [mat_in[i][j]]\n",
        "        return mat_lambda\n",
        "\n",
        "    def polynomial_add(poly1, poly2):\n",
        "        \"\"\"Складывает два полинома, представленных списками коэффициентов.\"\"\"\n",
        "        len1, len2 = len(poly1), len(poly2)\n",
        "        max_len = max(len1, len2)\n",
        "        result = [0] * max_len\n",
        "        for i in range(len1):\n",
        "            result[max_len - len1 + i] += poly1[i]\n",
        "        for i in range(len2):\n",
        "            result[max_len - len2 + i] += poly2[i]\n",
        "        return result\n",
        "\n",
        "    def polynomial_subtract(poly1, poly2):\n",
        "        \"\"\"Вычитает второй полином из первого.\"\"\"\n",
        "        neg_poly2 = [-coeff for coeff in poly2]\n",
        "        return polynomial_add(poly1, neg_poly2)\n",
        "\n",
        "    def polynomial_multiply(poly1, poly2):\n",
        "        \"\"\"Умножает два полинома.\"\"\"\n",
        "        if poly1 == [0] or poly2 == [0]:\n",
        "            return [0]\n",
        "        len1, len2 = len(poly1), len(poly2)\n",
        "        result_degree = len1 + len2 - 2\n",
        "        result = [0] * (result_degree + 1)\n",
        "        for i in range(len1):\n",
        "            for j in range(len2):\n",
        "                result[i + j] += poly1[i] * poly2[j]\n",
        "        return result\n",
        "\n",
        "    def polynomial_scalar_multiply(poly, scalar):\n",
        "        \"\"\"Умножает полином на скаляр.\"\"\"\n",
        "        return [coeff * scalar for coeff in poly]\n",
        "\n",
        "    def determinant_polynomial(matrix_poly):\n",
        "        \"\"\"Вычисляет определитель матрицы, элементы которой - полиномы.\"\"\"\n",
        "        size = len(matrix_poly)\n",
        "        if size == 1:\n",
        "            return matrix_poly[0][0]\n",
        "        if size == 2:\n",
        "            a = matrix_poly[0][0]\n",
        "            b = matrix_poly[0][1]\n",
        "            c = matrix_poly[1][0]\n",
        "            d = matrix_poly[1][1]\n",
        "            term1 = polynomial_multiply(a, d)\n",
        "            term2 = polynomial_multiply(b, c)\n",
        "            return polynomial_subtract(term1, term2)\n",
        "\n",
        "        det_poly = [0] # Начальное значение определителя - нулевой полином\n",
        "        for j in range(size):\n",
        "            minor_matrix_poly = []\n",
        "            for i_minor in range(1, size): # Начинаем со второй строки (индекс 1)\n",
        "                row_minor = []\n",
        "                for j_minor in range(size):\n",
        "                    if j_minor != j:\n",
        "                        row_minor.append(matrix_poly[i_minor][j_minor])\n",
        "                minor_matrix_poly.append(row_minor)\n",
        "\n",
        "            cofactor = determinant_polynomial(minor_matrix_poly)\n",
        "            term = polynomial_multiply(matrix_poly[0][j], cofactor)\n",
        "            if (j % 2) == 0: # (+), если j четное, (-) если j нечетное\n",
        "                det_poly = polynomial_add(det_poly, term)\n",
        "            else:\n",
        "                det_poly = polynomial_subtract(det_poly, term)\n",
        "\n",
        "        return det_poly\n",
        "\n",
        "    matrix_lambda_I = subtract_lambda_identity(matrix)\n",
        "    char_poly_coeffs = determinant_polynomial(matrix_lambda_I)\n",
        "\n",
        "    if char_poly_coeffs and char_poly_coeffs[0] < 0 and len(char_poly_coeffs) > 1: # Для матриц > 1x1\n",
        "        char_poly_coeffs = polynomial_scalar_multiply(char_poly_coeffs, -1)\n",
        "    elif char_poly_coeffs and len(char_poly_coeffs) == 1 and char_poly_coeffs[0] < 0: # Для 1x1 матриц и констант\n",
        "        char_poly_coeffs = polynomial_scalar_multiply(char_poly_coeffs, -1)\n",
        "\n",
        "    return char_poly_coeffs\n",
        "\n",
        "def polynomial_evaluation(coeffs, x):\n",
        "    \"\"\"\n",
        "    Вычисляет значение полинома в точке x.\n",
        "\n",
        "    Args:\n",
        "        coeffs (List[float]): Коэффициенты полинома, начиная со старшей степени.\n",
        "        x (float): Значение, в котором нужно вычислить полином.\n",
        "\n",
        "    Returns:\n",
        "        (float): Значение полинома в точке x.\n",
        "    \"\"\"\n",
        "    result = 0\n",
        "    for i, coeff in enumerate(coeffs):\n",
        "        power = len(coeffs) - 1 - i\n",
        "        result += coeff * (x ** power)\n",
        "    return result\n",
        "\n",
        "def bisection_eigenvalues(char_poly_coeffs, interval_start, interval_end, tolerance=1e-6, max_iterations=100):\n",
        "    \"\"\"\n",
        "    Находит собственные числа матрицы (корни характеристического многочлена) методом бисекции.\n",
        "\n",
        "    Метод бисекции - это численный метод поиска корней, который работает путем повторного\n",
        "    деления интервала пополам и выбора подинтервала, в котором корень должен лежать.\n",
        "    Предполагается, что на концах заданного интервала значения полинома имеют разные знаки.\n",
        "\n",
        "    Args:\n",
        "        char_poly_coeffs (List[float]): Коэффициенты характеристического многочлена.\n",
        "        interval_start (float): Начало интервала поиска.\n",
        "        interval_end (float): Конец интервала поиска.\n",
        "        tolerance (float): Желаемая точность для корня.\n",
        "        max_iterations (int): Максимальное количество итераций бисекции.\n",
        "\n",
        "    Returns:\n",
        "        (List[float]): Список найденных собственных чисел в заданном интервале.\n",
        "                       Если в интервале нет корней или метод не сходится за max_iterations,\n",
        "                       возвращается пустой список.\n",
        "    \"\"\"\n",
        "    eigenvalues = []\n",
        "    left = interval_start\n",
        "    right = interval_end\n",
        "\n",
        "    if polynomial_evaluation(char_poly_coeffs, left) * polynomial_evaluation(char_poly_coeffs, right) >= 0:\n",
        "        if polynomial_evaluation(char_poly_coeffs, left) == 0:\n",
        "            eigenvalues.append(left)\n",
        "        if polynomial_evaluation(char_poly_coeffs, right) == 0:\n",
        "            eigenvalues.append(right)\n",
        "        if eigenvalues:\n",
        "            return eigenvalues\n",
        "        else:\n",
        "            return []\n",
        "\n",
        "    for _ in range(max_iterations):\n",
        "        mid = (left + right) / 2\n",
        "        value_mid = polynomial_evaluation(char_poly_coeffs, mid)\n",
        "\n",
        "        if abs(value_mid) < tolerance:\n",
        "            eigenvalues.append(mid)\n",
        "            return eigenvalues  # Корень найден\n",
        "\n",
        "        value_left = polynomial_evaluation(char_poly_coeffs, left)\n",
        "\n",
        "        if value_left * value_mid < 0:\n",
        "            right = mid\n",
        "        else:\n",
        "            left = mid\n",
        "\n",
        "    return eigenvalues\n",
        "\n",
        "def polynomial_derivative(coeffs):\n",
        "    \"\"\"\n",
        "    Вычисляет производную полинома, заданного коэффициентами.\n",
        "\n",
        "    Args:\n",
        "        coeffs (List[float]): Коэффициенты полинома, начиная со старшей степени.\n",
        "    Returns:\n",
        "        (List[float]): Коэффициенты производной полинома, начиная со старшей степени.\n",
        "                       Возвращает [0], если исходный полином константа или нулевой.\n",
        "    \"\"\"\n",
        "    if not coeffs or len(coeffs) <= 1: # Производная константы или нулевого полинома - 0\n",
        "        return [0]\n",
        "\n",
        "    derivative_coeffs = []\n",
        "    degree = len(coeffs) - 1\n",
        "    for i in range(len(coeffs) - 1):\n",
        "        derivative_coeffs.append(coeffs[i] * degree)\n",
        "        degree -= 1\n",
        "    return derivative_coeffs\n",
        "\n",
        "def algebraic_multiplicity(char_poly_coeffs, eigenvalue, tolerance=1e-6, max_derivative_order=None):\n",
        "    \"\"\"\n",
        "    Вычисляет алгебраическую кратность собственного числа через производные характеристического многочлена.\n",
        "\n",
        "    Алгебраическая кратность собственного числа - это кратность этого числа как корня\n",
        "    характеристического многочлена. Она определяется как наименьшее целое число k такое,\n",
        "    что k-я производная характеристического многочлена не равна нулю в данной точке (собственном числе).\n",
        "\n",
        "    Args:\n",
        "        char_poly_coeffs (List[float]): Коэффициенты характеристического многочлена.\n",
        "        eigenvalue (float): Собственное число, для которого нужно вычислить кратность.\n",
        "        tolerance (float): Порог для определения, является ли значение полинома нулем.\n",
        "        max_derivative_order (int, optional): Максимальный порядок производной для проверки.\n",
        "            Если None, проверяются производные до тех пор, пока производная не станет ненулевой или порядок не превысит степень полинома.\n",
        "    Returns:\n",
        "        (int): Алгебраическая кратность собственного числа.\n",
        "    \"\"\"\n",
        "    multiplicity = 0\n",
        "    current_poly_coeffs = char_poly_coeffs\n",
        "    degree = len(char_poly_coeffs) - 1\n",
        "\n",
        "    if max_derivative_order is None:\n",
        "        max_order = degree + 1 # Проверка до производной порядка n включительно, где n - степень полинома\n",
        "    else:\n",
        "        max_order = min(max_derivative_order + 1, degree + 1) # Ограничение max_derivative_order и степенью полинома\n",
        "\n",
        "    for order in range(max_order):\n",
        "        poly_value = polynomial_evaluation(current_poly_coeffs, eigenvalue)\n",
        "        if abs(poly_value) > tolerance:\n",
        "            return multiplicity  # Найдена первая ненулевая производная, кратность определена\n",
        "        multiplicity += 1\n",
        "        current_poly_coeffs = polynomial_derivative(current_poly_coeffs)\n",
        "        if current_poly_coeffs == [0]: # Если производная стала нулевым полиномом, останавливаемся\n",
        "            return multiplicity\n",
        "\n",
        "    return multiplicity # Если все производные до max_order (или до степени полинома) равны нулю, возвращаем max_order (или степень полинома)\n",
        "\n",
        "def find_eigenvalues(C: Matrix, tol: float=1e-6) -> List[float]:\n",
        "    \"\"\"\n",
        "    Находит спектр матрицы (собственные значения с учетом кратности)\n",
        "\n",
        "    Args:\n",
        "        char_poly_coeffs (List[float]): коэффициенты характеристического многочлена.\n",
        "        eigenvalue (float): Собственное число, для которого нужно вычислить кратность.\n",
        "        tolerance (float): Порог для определения, является ли значение полинома нулем.\n",
        "        max_derivative_order (int, optional): Максимальный порядок производной для проверки.\n",
        "                                                Если None, проверяются производные до тех пор, пока производная не станет ненулевой или порядок не превысит степень полинома.\n",
        "\n",
        "    Returns:\n",
        "        List(float): Собственные числа матрицы с учетом их алгебраической кратности\n",
        "    \"\"\"\n",
        "    search_start = -10**3\n",
        "    search_end = 10**3\n",
        "\n",
        "    char_poly_coeffs = characteristic_polynomial(C)\n",
        "    eigenvalues = []\n",
        "    for i in range(search_start, search_end):\n",
        "        eigenvalues += bisection_eigenvalues(char_poly_coeffs, i, i+1)\n",
        "\n",
        "    eigenvalues = sorted(list(set(eigenvalues)))\n",
        "    all_eigenvalues = []\n",
        "    for eigenvalue in eigenvalues:\n",
        "        all_eigenvalues += algebraic_multiplicity(char_poly_coeffs, eigenvalue) * [eigenvalue]\n",
        "\n",
        "    return all_eigenvalues[::-1]"
      ]
    },
    {
      "cell_type": "code",
      "execution_count": 14,
      "metadata": {
        "colab": {
          "base_uri": "https://localhost:8080/"
        },
        "id": "oWz5mqGmLgBd",
        "outputId": "e091c99f-f625-4797-94d8-bf52a17acf55"
      },
      "outputs": [
        {
          "name": "stdout",
          "output_type": "stream",
          "text": [
            "[2, -2, -4]\n"
          ]
        }
      ],
      "source": [
        "def test_zero_matrix():\n",
        "    matrix_example = Matrix([[0, 0, 0], [0, 0, 0], [0, 0, 0]])\n",
        "    char_poly_coeffs = characteristic_polynomial(matrix_example)\n",
        "    assert char_poly_coeffs == [1, 0, 0, 0]\n",
        "\n",
        "    eigenvalues = find_eigenvalues(matrix_example)\n",
        "    assert abs(eigenvalues[0]) <= 1e-6\n",
        "    assert abs(eigenvalues[1]) <= 1e-6\n",
        "    assert abs(eigenvalues[2]) <= 1e-6\n",
        "\n",
        "def test_equal_matrix():\n",
        "    matrix_example = Matrix([[1, 0, 0, 0], [0, 1, 0, 0], [0, 0, 1, 0], [0, 0, 0, 1]])\n",
        "    char_poly_coeffs = characteristic_polynomial(matrix_example)\n",
        "    assert char_poly_coeffs == [1, -4, 6, -4, 1]\n",
        "\n",
        "    eigenvalues = find_eigenvalues(matrix_example)\n",
        "    assert abs(eigenvalues[0] - 1) <= 1e-6\n",
        "    assert abs(eigenvalues[1] - 1) <= 1e-6\n",
        "    assert abs(eigenvalues[2] - 1) <= 1e-6\n",
        "    assert abs(eigenvalues[3] - 1) <= 1e-6\n",
        "\n",
        "def test_random_matrix():\n",
        "    matrix_example = Matrix([[-1, 0, 3], [0, -2, 0], [3, 0, -1]])\n",
        "    char_poly_coeffs = characteristic_polynomial(matrix_example)\n",
        "    assert char_poly_coeffs == [1, 4, -4, -16]\n",
        "\n",
        "    eigenvalues = find_eigenvalues(matrix_example)\n",
        "    print(eigenvalues)\n",
        "    assert abs(eigenvalues[0] - 2) <= 1e-6\n",
        "    assert abs(eigenvalues[1] + 2) <= 1e-6\n",
        "    assert abs(eigenvalues[2] + 4) <= 1e-6\n",
        "\n",
        "test_zero_matrix()\n",
        "test_equal_matrix()\n",
        "test_random_matrix()"
      ]
    },
    {
      "cell_type": "code",
      "execution_count": 15,
      "metadata": {
        "colab": {
          "base_uri": "https://localhost:8080/"
        },
        "id": "dHMayPNEHQ4p",
        "outputId": "8ea37ac9-6b54-467f-c507-195c2905a435"
      },
      "outputs": [
        {
          "data": {
            "text/plain": [
              "[4, 2, 1]"
            ]
          },
          "execution_count": 15,
          "metadata": {},
          "output_type": "execute_result"
        }
      ],
      "source": [
        "C = Matrix([[3, 1, 0], [1, 3, 0], [0, 0, 1]])\n",
        "find_eigenvalues(C)"
      ]
    },
    {
      "cell_type": "markdown",
      "metadata": {
        "id": "aSxzbOFNWawx"
      },
      "source": [
        "#  Задание (Normal): Найти собственные векторы матрицы C"
      ]
    },
    {
      "cell_type": "code",
      "execution_count": 16,
      "metadata": {
        "id": "CqHp7uIJdZt3"
      },
      "outputs": [],
      "source": [
        "def find_eigenvectors(matrix: Matrix, eigenvalues: List[float], tolerance: float=1e-6,\n",
        "                      is_normalize: bool=False) -> List[List[float]]:\n",
        "    \"\"\"Вычисляет собственные векторы для заданных собственных чисел матрицы.\n",
        "\n",
        "    Для каждого собственного числа λ находит базис нуль-пространства матрицы (A - λE),\n",
        "    где A - исходная матрица, E - единичная матрица. Векторы этого базиса являются\n",
        "    собственными векторами, соответствующими собственному числу λ.\n",
        "\n",
        "    Args:\n",
        "        matrix (Matrix): квадратная матрица.\n",
        "        eigenvalues (List[float]): список собственных чисел.\n",
        "        tolerance (float): порог для определения нулевых значений при приведении к ступенчатому виду.\n",
        "        is_normalize (bool): нужна ли нормализация.\n",
        "    Returns:\n",
        "        (List[List[float]]): список собственных векторов.\n",
        "    \"\"\"\n",
        "    eigenvalues = list(set(eigenvalues))\n",
        "    n = len(matrix)\n",
        "    eigenvectors: list[Matrix] = []\n",
        "\n",
        "    def get_null_space_basis(rref_matrix, eigenvalue):\n",
        "        \"\"\"Находит базис нуль-пространства матрицы в ступенчатом виде.\"\"\"\n",
        "        rows = len(rref_matrix)\n",
        "        cols = len(rref_matrix[0]) if rows > 0 else 0\n",
        "        pivot_cols = []\n",
        "        free_cols = []\n",
        "        lead = 0\n",
        "        for j in range(cols):\n",
        "            is_pivot = False\n",
        "            for i in range(lead, rows):\n",
        "                if abs(rref_matrix[i][j]) > tolerance:\n",
        "                    pivot_cols.append(j)\n",
        "                    lead = i + 1\n",
        "                    is_pivot = True\n",
        "                    break\n",
        "            if not is_pivot:\n",
        "                free_cols.append(j)\n",
        "\n",
        "        if not free_cols:\n",
        "            return []\n",
        "\n",
        "        basis = []\n",
        "        for free_col_index in free_cols:\n",
        "            v = [0.0] * cols\n",
        "            v[free_col_index] = 1.0\n",
        "            for i in range(len(pivot_cols)):\n",
        "                pivot_col = pivot_cols[i]\n",
        "                v[pivot_col] = -rref_matrix[i][free_col_index]\n",
        "            basis.append(v)\n",
        "        return basis\n",
        "\n",
        "    for eigenvalue in eigenvalues:\n",
        "        matrix_minus_lambda_E = matrix.add_scalar_diag(-eigenvalue)\n",
        "        rref_matrix = gauss_move([list(row) for row in matrix_minus_lambda_E])\n",
        "        null_space_basis = get_null_space_basis(rref_matrix, eigenvalue)\n",
        "        if null_space_basis:\n",
        "            for vec in null_space_basis:\n",
        "                eigenvectors.append(Matrix([vec]))\n",
        "\n",
        "    if is_normalize:\n",
        "        # Пронормируем векторы\n",
        "        for i in range(len(eigenvectors)):\n",
        "            eigenvectors[i] = eigenvectors[i].multiply_by_scalar(1/eigenvectors[i].norm())\n",
        "    return [eigenvector.data[0] for eigenvector in eigenvectors]"
      ]
    },
    {
      "cell_type": "code",
      "execution_count": 17,
      "metadata": {
        "id": "HvQ8aLJN1tUU"
      },
      "outputs": [],
      "source": [
        "def test_simple_matrix():\n",
        "    matrix_example = Matrix([[2, 1], [1, 2]])\n",
        "    eigenvalues = find_eigenvalues(matrix_example)\n",
        "    eigenvectors = find_eigenvectors(matrix_example, eigenvalues, is_normalize=True)\n",
        "    assert eigenvalues == [3, 1]\n",
        "    assert eigenvectors == [[-1/2**0.5, 1/2**0.5], [1/2**0.5, 1/2**0.5]]\n",
        "\n",
        "def test_random_matrix():\n",
        "    matrix_example = Matrix([[1, -3, 3], [3, -5, 3], [6, -6, 4]])\n",
        "    eigenvalues = find_eigenvalues(matrix_example)\n",
        "    eigenvectors = find_eigenvectors(matrix_example, eigenvalues, is_normalize=True)\n",
        "    assert eigenvalues == [4, -2, -2]\n",
        "    assert eigenvectors == [[0.5/(3/2)**0.5, 0.5/(3/2)**0.5, 1.0/(3/2)**0.5], [1/2**0.5, 1/2**0.5, 0.0], [-1/2**0.5, 0.0, 1/2**0.5]]\n",
        "\n",
        "test_simple_matrix()\n",
        "test_random_matrix()"
      ]
    },
    {
      "cell_type": "markdown",
      "metadata": {
        "id": "4p537iCO2GlU"
      },
      "source": [
        "# Задание (Normal): Вычислить долю объяснённой дисперсии"
      ]
    },
    {
      "cell_type": "code",
      "execution_count": 18,
      "metadata": {
        "id": "cCCpIJMs2Jhh"
      },
      "outputs": [],
      "source": [
        "def explained_variance_ratio(eigenvalues: List[float], k: int) -> float:\n",
        "    \"\"\"Функция для вычисления доли объясненной дисперсии для k компонент.\n",
        "    Args:\n",
        "        eigenvalues (List[float]): список собственных значений.\n",
        "        k (int): число компонент.\n",
        "    Returns:\n",
        "        float: доля объяснённой дисперсии.\n",
        "    Raises:\n",
        "        ZeroDivisionError: если все собственные значения равны 0.\n",
        "    \"\"\"\n",
        "    if k > len(eigenvalues):\n",
        "        k = len(eigenvalues)\n",
        "    try:\n",
        "        return sum(eigenvalues[:k]) / sum(eigenvalues)\n",
        "    except ZeroDivisionError:\n",
        "        raise ZeroDivisionError(\"Все собственные значения матрицы равны 0.\")"
      ]
    },
    {
      "cell_type": "code",
      "execution_count": 19,
      "metadata": {
        "id": "tC06mPtM2L7l"
      },
      "outputs": [],
      "source": [
        "def test_explained_variance_ratio_basic():\n",
        "    \"\"\"Проверяет базовый случай вычисления доли объяснённой дисперсии.\"\"\"\n",
        "    eigenvalues = [4.0, 3.0, 2.0, 1.0]\n",
        "    k = 2\n",
        "    result = explained_variance_ratio(eigenvalues, k)\n",
        "    expected = (4.0 + 3.0) / (4.0 + 3.0 + 2.0 + 1.0)\n",
        "    assert result == expected\n",
        "\n",
        "def test_explained_variance_ratio_single_component():\n",
        "    \"\"\"Проверяет случай с одной компонентой.\"\"\"\n",
        "    eigenvalues = [5.0, 0.0, 0.0]\n",
        "    k = 1\n",
        "    result = explained_variance_ratio(eigenvalues, k)\n",
        "    expected = 5.0 / (5.0 + 0.0 + 0.0)\n",
        "    assert result == expected\n",
        "\n",
        "def test_explained_variance_ratio_all_components():\n",
        "    \"\"\"Проверяет случай, когда берутся все компоненты.\"\"\"\n",
        "    eigenvalues = [1.5, 1.0, 0.5]\n",
        "    k = 3\n",
        "    result = explained_variance_ratio(eigenvalues, k)\n",
        "    expected = (1.5 + 1.0 + 0.5) / (1.5 + 1.0 + 0.5)\n",
        "    assert result == expected\n",
        "\n",
        "def test_explained_variance_ratio_zero_variance():\n",
        "    \"\"\"Проверяет обработку случая с нулевой дисперсией.\"\"\"\n",
        "    eigenvalues = [0.0, 0.0, 0.0]\n",
        "    k = 2\n",
        "    with pytest.raises(ZeroDivisionError):\n",
        "        explained_variance_ratio(eigenvalues, k)\n",
        "\n",
        "def test_explained_variance_ratio_invalid_k():\n",
        "    \"\"\"Проверяет обработку случая, когда k больше числа компонент.\"\"\"\n",
        "    eigenvalues = [2.0, 1.0]\n",
        "    k = 3\n",
        "    with pytest.raises(ValueError):\n",
        "        explained_variance_ratio(eigenvalues, k)"
      ]
    },
    {
      "cell_type": "markdown",
      "metadata": {
        "id": "cbbAfcDdwKET"
      },
      "source": [
        "# Задание (Expert): Добавить автоматический выбор числа главных компонент на основе порога объяснённой дисперсии (встроить это в реализованную функцию pca)"
      ]
    },
    {
      "cell_type": "code",
      "execution_count": 20,
      "metadata": {
        "id": "jDopjfJAwKET"
      },
      "outputs": [],
      "source": [
        "def auto_select_k(eigenvalues: List[float], threshold: float = 0.95) -> int:\n",
        "    \"\"\"Автоматический выбор числа главных компонент на основе порога доли\n",
        "        объяснённой дисперсии.\n",
        "    Args:\n",
        "        eigenvalues (List[float]): список собственных значений.\n",
        "        threshold (float): порог объяснённой дисперсии.\n",
        "    Returns:\n",
        "        (int): оптимальное число главных компонент k.\n",
        "    Raises:\n",
        "        (ValueError): если список собственных значений пуст.\n",
        "    \"\"\"\n",
        "    if len(eigenvalues) == 0:\n",
        "        raise ValueError(\"Список собственных значений пуст.\")\n",
        "    if threshold > 1:\n",
        "        threshold = 1\n",
        "    for k in range(1, len(eigenvalues)+1):\n",
        "        if explained_variance_ratio(eigenvalues=eigenvalues, k=k) >= threshold:\n",
        "            return k"
      ]
    },
    {
      "cell_type": "markdown",
      "metadata": {
        "id": "tQlMD5tcwKET"
      },
      "source": [
        "# Задание (Hard): Реализовать полный алгоритм PCA:\n",
        "1. Центрирование данных.\n",
        "2. Вычисление матрицы выборочных ковариаций.\n",
        "3. Нахождение собственных значений и векторов.\n",
        "4. Проекция данных на главные компоненты."
      ]
    },
    {
      "cell_type": "code",
      "execution_count": 21,
      "metadata": {
        "id": "yfY1hbZIwKET"
      },
      "outputs": [],
      "source": [
        "def pca(X: Matrix, k: int=None, threshold: float=0.95,\n",
        "        return_components: bool=False) -> tuple[Matrix, float]:\n",
        "    \"\"\"\n",
        "    Args:\n",
        "        X (Matrix): матрица данных (n×m).\n",
        "        k (int): число главных компонент.\n",
        "        threshold (float): порог объяснённой дисперсии (если выбираем k автоматически).\n",
        "        return_components (bool): возвращать ли компоненты.\n",
        "    Returns:\n",
        "        tuple(Matrix, List[float], float): проекция данных (n×k), компоненты,\n",
        "            доля объяснённой дисперсии.\n",
        "    \"\"\"\n",
        "    if k != None:\n",
        "        if k > X.n_cols:\n",
        "            raise ValueError(\"Число k больше, чем число столбцов матрицы X.\")\n",
        "    X_centered = center_data(X)\n",
        "\n",
        "    X_cov = covariance_matrix(X_centered)\n",
        "\n",
        "    eigenvalues = find_eigenvalues(X_cov)\n",
        "\n",
        "    if k == None:\n",
        "        k = auto_select_k(eigenvalues, threshold)\n",
        "\n",
        "    eigenvectors = find_eigenvectors(X_cov, eigenvalues=eigenvalues[:k],\n",
        "                                     is_normalize=True)\n",
        "    \n",
        "    # Ситуация, когда вернулись с.з. с алг. кратностью > 1, и одно из них попало\n",
        "    # как в первые k, так и в последующие, следовательно вычислили больше векторов, чем k\n",
        "    if len(eigenvectors) > k:\n",
        "        eigenvectors = eigenvectors[:k]\n",
        "    pca_components = Matrix(eigenvectors).transpose()\n",
        "\n",
        "    project_data = X_centered.multiply_by_matrix(pca_components)\n",
        "    dispersion_ratio = explained_variance_ratio(eigenvalues, k=k)\n",
        "\n",
        "    if return_components:\n",
        "        return [project_data, pca_components, dispersion_ratio]\n",
        "    return project_data, dispersion_ratio"
      ]
    },
    {
      "cell_type": "code",
      "execution_count": 22,
      "metadata": {
        "id": "L7zokZwMwKET"
      },
      "outputs": [],
      "source": [
        "def test_pca_basic():\n",
        "    \"\"\"Проверяет базовый случай PCA с двумя признаками и k=1.\"\"\"\n",
        "    X = Matrix([[1, 2], [2, 3], [3, 4]])\n",
        "    k = 1\n",
        "    projected, ratio = pca(X, k)\n",
        "    # Ожидаемые центрированные данные: [[-1, -1], [0, 0], [1, 1]]\n",
        "    # Главный компонент [1/sqrt(2), 1/sqrt(2)], Проекция: [-sqrt(2), 0, sqrt(2)]\n",
        "    expected_projection = [[-2**0.5], [0], [2**0.5]]\n",
        "    for i in range(len(projected)):\n",
        "        assert abs(projected[i][0] - expected_projection[i][0]) < 1e-12\n",
        "\n",
        "    assert ratio == 1.0\n",
        "\n",
        "def test_pca_zero_variance():\n",
        "    \"\"\"Проверяет обработку случая, когда все данные одинаковы.\"\"\"\n",
        "    X = Matrix([[5, 5], [5, 5], [5, 5]])\n",
        "    k = 1\n",
        "    try:\n",
        "        pca(X, k)\n",
        "        assert False, \"Expected ZeroDivisionError\"\n",
        "    except ZeroDivisionError:\n",
        "        pass\n",
        "\n",
        "def test_pca_invalid_k():\n",
        "    \"\"\"Проверяет обработку случая, когда k больше числа признаков.\"\"\"\n",
        "    X = Matrix([[1, 2], [3, 4]])\n",
        "    k = 3\n",
        "    try:\n",
        "        pca(X, k)\n",
        "        assert False, \"Expected ValueError\"\n",
        "    except ValueError:\n",
        "        pass\n",
        "\n",
        "def test_pca_correct_projection_dimensions():\n",
        "    \"\"\"Проверяет корректность размерности проекции.\"\"\"\n",
        "    n, m, k = 5, 3, 2\n",
        "    X = Matrix([[float(i + j) for j in range(m)] for i in range(n)])\n",
        "    projected, _ = pca(X, k)\n",
        "    assert len(projected) == n\n",
        "    assert len(projected[0]) == k\n",
        "\n",
        "def test_pca_variance_ratio_multiple_components():\n",
        "    \"\"\"Проверяет долю дисперсии для нескольких компонент.\"\"\"\n",
        "    # Данные с тремя признаками и разными дисперсиями\n",
        "    X = Matrix([[2, 0, 0], [4, 0, 0], [6, 0, 0], [8, 0, 0]])\n",
        "    k = 2\n",
        "    _, ratio = pca(X, k)\n",
        "\n",
        "    # Дисперсии сосредоточены в первом признаке\n",
        "    assert ratio == 1.0\n",
        "\n",
        "# Запуск тестов\n",
        "test_pca_basic()\n",
        "test_pca_zero_variance()\n",
        "test_pca_invalid_k()\n",
        "test_pca_correct_projection_dimensions()\n",
        "test_pca_variance_ratio_multiple_components()"
      ]
    },
    {
      "cell_type": "code",
      "execution_count": 23,
      "metadata": {
        "colab": {
          "base_uri": "https://localhost:8080/"
        },
        "id": "-jJOrlYUwKET",
        "outputId": "b504ab0d-9856-4e81-8236-301c1480ec18"
      },
      "outputs": [
        {
          "name": "stdout",
          "output_type": "stream",
          "text": [
            "Matrix(\n",
            " [0.707107\n",
            "  -1.41421\n",
            "  0.707107])\n",
            "Доля объясненной дисперсии: 1.0\n"
          ]
        }
      ],
      "source": [
        "C = Matrix([[1,0,0], [0,2,0], [0,0,1]])\n",
        "\n",
        "C_pca, dispersion_ratio = pca(C)\n",
        "print(C_pca)\n",
        "print(f'Доля объясненной дисперсии: {dispersion_ratio}')"
      ]
    },
    {
      "cell_type": "markdown",
      "metadata": {
        "id": "fTeBUpvnwKET"
      },
      "source": [
        "# Задание (Hard): Визуализировать проекцию данных на первые две главные компоненты"
      ]
    },
    {
      "cell_type": "code",
      "execution_count": 24,
      "metadata": {
        "id": "Mqsz6efgwKEU"
      },
      "outputs": [],
      "source": [
        "def plot_pca_projection(X_proj: Matrix) -> None:\n",
        "    \"\"\"\n",
        "    Args:\n",
        "        X_proj (Matrix): проекция данных X_proj (n×2).\n",
        "    Returns:\n",
        "        Figure: объект Figure из Matplotlib.\n",
        "    \"\"\"\n",
        "    fig = plt.figure(figsize=(7,7))\n",
        "    first_feature = [sample[0] for sample in X_proj.data]\n",
        "    second_feature = [sample[1] for sample in X_proj.data]\n",
        "    plt.scatter(first_feature, second_feature)\n",
        "    plt.title('Визуализация проекции на 2 компоненты')\n",
        "    plt.xlabel('Первый признак')\n",
        "    plt.ylabel('Второй признак')\n",
        "    plt.show()"
      ]
    },
    {
      "cell_type": "code",
      "execution_count": 25,
      "metadata": {
        "colab": {
          "base_uri": "https://localhost:8080/",
          "height": 641
        },
        "id": "KhLxUkTQwKEU",
        "outputId": "decae0f2-b132-4429-b168-03eef798f8fa"
      },
      "outputs": [
        {
          "data": {
            "image/png": "[encoded data removed]",
            "text/plain": [
              "<Figure size 700x700 with 1 Axes>"
            ]
          },
          "metadata": {},
          "output_type": "display_data"
        }
      ],
      "source": [
        "random.seed(42)\n",
        "C = Matrix([\n",
        "    [round(random.uniform(-10, 10), 2) for _ in range(6)]\n",
        "    for _ in range(6)\n",
        "])\n",
        "\n",
        "C_pca, dispersion_ratio = pca(C, k=5)\n",
        "plot_pca_projection(C_pca)"
      ]
    },
    {
      "cell_type": "markdown",
      "metadata": {
        "id": "O4Mec_YFwKEU"
      },
      "source": [
        "# Задание (Hard): Вычислить среднеквадратическую ошибку восстановления данных"
      ]
    },
    {
      "cell_type": "code",
      "execution_count": 26,
      "metadata": {
        "id": "YxXKuYJzwKEU"
      },
      "outputs": [],
      "source": [
        "def reconstruction_error(X_orig: Matrix, X_recon: Matrix) -> float:\n",
        "    \"\"\"Вычисляет среднеквадратическую ошибку восстановления данных.\n",
        "    Args:\n",
        "        X_orig (Matrix): исходные данные (n×m).\n",
        "        X_recon (Matrix): восстановленные данные (n×m).\n",
        "    Returns:\n",
        "        (float): среднеквадратическая ошибка MSE.\n",
        "    Raises:\n",
        "        (ValueError): если размеры матриц не совпадают.\n",
        "    \"\"\"\n",
        "    if X_orig.n_rows != X_recon.n_rows or X_orig.n_cols != X_recon.n_cols:\n",
        "        raise ValueError(\"У матриц не совпадают размеры.\")\n",
        "    err_matr = X_orig.add_matrix(X_recon.multiply_by_scalar(-1))\n",
        "    mse = (err_matr.norm())**2 / (X_orig.n_rows * X_orig.n_cols)\n",
        "    return mse"
      ]
    },
    {
      "cell_type": "code",
      "execution_count": 27,
      "metadata": {},
      "outputs": [],
      "source": [
        "def test_reconstruction_error_zero():\n",
        "    \"\"\"Проверяет, что при идентичных матрицах MSE равна 0.\"\"\"\n",
        "    X = Matrix([[1, 2], [3, 4]])\n",
        "    X_recon = Matrix([[1, 2], [3, 4]])\n",
        "    mse = reconstruction_error(X, X_recon)\n",
        "    assert abs(mse - 0.0) < 1e-12\n",
        "\n",
        "def test_reconstruction_error_known_value():\n",
        "    \"\"\"Проверяет вычисление MSE для простого примера 2×2.\"\"\"\n",
        "    X = Matrix([[1, 2], [3, 4]])\n",
        "    X_recon = Matrix([[2, 2], [2, 2]])\n",
        "    # Разности: [[-1, 0], [1, 2]]. MSE = 6 / 4 = 1.5\n",
        "    mse = reconstruction_error(X, X_recon)\n",
        "    assert abs(mse - 1.5) < 1e-12\n",
        "\n",
        "def test_reconstruction_error_dimension_mismatch():\n",
        "    \"\"\"Проверяет, что при различных размерах матриц выбрасывается ValueError.\"\"\"\n",
        "    X = Matrix([[1, 2, 3], [4, 5, 6]])\n",
        "    X_recon = Matrix([[1, 2], [3, 4]])\n",
        "    try:\n",
        "        reconstruction_error(X, X_recon)\n",
        "        assert False, \"Ожидалась ошибка ValueError\"\n",
        "    except ValueError:\n",
        "        pass"
      ]
    },
    {
      "cell_type": "markdown",
      "metadata": {
        "id": "rCkMmU_cwKEU"
      },
      "source": [
        "# Задание (Expert): Обработать пропущенные значения в данных"
      ]
    },
    {
      "cell_type": "code",
      "execution_count": 28,
      "metadata": {
        "id": "NcLqZFw_wKEU"
      },
      "outputs": [],
      "source": [
        "def handle_missing_values(X: Matrix) -> Matrix:\n",
        "    \"\"\"\n",
        "    Args:\n",
        "        X (Matrix): матрица данных X (n×m) с возможными NaN.\n",
        "    Returns:\n",
        "        (Matrix): матрица данных X_filled (n×m) без NaN.\n",
        "    \"\"\"\n",
        "    X_means = X.column_means()\n",
        "    X_filled = [\n",
        "        [X_means[j] if X[i][j] == None else X[i][j] for j in range(X.n_cols)]\n",
        "        for i in range(X.n_rows)\n",
        "    ]\n",
        "    return Matrix(X_filled)"
      ]
    },
    {
      "cell_type": "code",
      "execution_count": 29,
      "metadata": {
        "colab": {
          "base_uri": "https://localhost:8080/"
        },
        "id": "BvO6CA4PwKEV",
        "outputId": "3ffb77cd-0d3a-4245-c905-a1218c114478"
      },
      "outputs": [
        {
          "name": "stdout",
          "output_type": "stream",
          "text": [
            "Matrix(\n",
            " [1 0 None\n",
            "  0 2 0\n",
            "  0 0 1])\n",
            "Matrix(\n",
            " [1 0 0.5\n",
            "  0 2 0\n",
            "  0 0 1])\n"
          ]
        }
      ],
      "source": [
        "C = Matrix([[1,0,None], [0,2,0], [0,0,1]])\n",
        "C_filled = handle_missing_values(C)\n",
        "print(C)\n",
        "print(C_filled)"
      ]
    },
    {
      "cell_type": "markdown",
      "metadata": {
        "id": "xkC7RyEGwKEV"
      },
      "source": [
        "# Отступление. Нахождение с.з. и с.в. через степенной метод"
      ]
    },
    {
      "cell_type": "code",
      "execution_count": 30,
      "metadata": {
        "id": "H8a_VMCFwKEV"
      },
      "outputs": [],
      "source": [
        "def power_method(M: Matrix, N_iters: int=10, tol: float=1e-6):\n",
        "    \"\"\"Функция для степенного метода нахождения собственного значения и вектора.\n",
        "    Args:\n",
        "        M (Matrix): матрица, для которой находим с.в.\n",
        "        N_iters(int): кол-во итераций алгоритма.\n",
        "    Returns:\n",
        "        tuple(float, Matrix): кортеж из собственного значения[0] и вектора[1]\n",
        "    \"\"\"\n",
        "    random.seed(42)\n",
        "    x = Matrix([\n",
        "        [round(random.uniform(-10, 10), 2)] for _ in range(M.n_cols)\n",
        "    ])\n",
        "    x = x.multiply_by_scalar(1/x.norm())\n",
        "\n",
        "    for _ in range(N_iters):\n",
        "        Mx = M.multiply_by_matrix(x)\n",
        "        try:\n",
        "            x_new = Mx.multiply_by_scalar(1/Mx.norm())\n",
        "        except ZeroDivisionError:\n",
        "            break\n",
        "\n",
        "        # Проверка сходимости\n",
        "        unb = x_new.add_matrix(x.multiply_by_scalar(-1))\n",
        "        if unb.norm() < tol:\n",
        "            break\n",
        "        x = x_new\n",
        "\n",
        "    ev = Mx.transpose().multiply_by_matrix(x).to_list()[0][0]\n",
        "    return ev, x.multiply_by_scalar(-1)"
      ]
    },
    {
      "cell_type": "code",
      "execution_count": 31,
      "metadata": {
        "id": "MVL67t4OwKEV"
      },
      "outputs": [],
      "source": [
        "def find_ev_evectors_pm(M: Matrix, k: int, N_iters: int=10,\n",
        "                        is_already_centered: bool=False) -> tuple[List[float], List[float]]:\n",
        "    \"\"\"Функция для нахождения с.з. и с.в. степенным методом.\n",
        "    Args:\n",
        "        M (Matrix): матрица, для которой находим с.в.\n",
        "        k (int): кол-во с.з. и векторов, которое нужно найти.\n",
        "        N_iters(int): кол-во итераций алгоритма.\n",
        "        is_already_centered (bool): показывает, квадратна (центрированна в нашем\n",
        "            случае) уже матрица.\n",
        "    Returns:\n",
        "        tuple(List[float], List[float]): кортеж из собственного значений[0] и векторов[1]\n",
        "    \"\"\"\n",
        "    if k > min(M.n_rows, M.n_cols):\n",
        "        k = min(M.n_rows, M.n_cols)\n",
        "    if not is_already_centered:\n",
        "        M = M.multiply_by_matrix(M.transpose())\n",
        "\n",
        "    evalues, evectors = [], []\n",
        "    for i in range(k):\n",
        "        ev, u = power_method(M, N_iters=N_iters)\n",
        "\n",
        "        evalues.append(ev**0.5)\n",
        "        evectors.append(u.to_list(like_vector=True))\n",
        "        # Обновляем матрицу для следующих с.в. и с.з.\n",
        "        ev_x_uut = (u.multiply_by_matrix(u.transpose())).multiply_by_scalar(ev)\n",
        "        M = M.add_matrix(ev_x_uut.multiply_by_scalar(-1))\n",
        "\n",
        "    return [evalues, evectors]"
      ]
    },
    {
      "cell_type": "code",
      "execution_count": 32,
      "metadata": {
        "colab": {
          "base_uri": "https://localhost:8080/"
        },
        "id": "PYClDcZ1wKEV",
        "outputId": "05a3cfeb-5dd1-4a67-d012-56fad92008fa"
      },
      "outputs": [
        {
          "name": "stdout",
          "output_type": "stream",
          "text": [
            "evals:  [2.9999999999979745, 2.000000000006682, 1.0000000000012244]\n",
            "evector 1:  [-0.9999999999987847, 1.558956783196334e-06, 1.0745908557044465e-17]\n",
            "evector 2:  [3.5076527621666786e-06, 0.9999999999937462, 4.517409309953846e-07]\n",
            "evector 3:  [3.0788359331783253e-12, -1.8069676038567187e-06, 0.9999999999983674]\n"
          ]
        }
      ],
      "source": [
        "C = Matrix([[3,0,0], [0,2,0], [0,0,1]])\n",
        "evalues, evectors = find_ev_evectors_pm(C, k=3, N_iters=100)\n",
        "print('evals: ', evalues)\n",
        "for i in range(len(evectors)):\n",
        "    print(f'evector {i+1}: ', evectors[i])"
      ]
    },
    {
      "cell_type": "code",
      "execution_count": 33,
      "metadata": {
        "id": "r4s9u4hswKEW"
      },
      "outputs": [],
      "source": [
        "def pca_with_pm(X: Matrix, k: int=None, N_iters: int=10,\n",
        "                threshold: float=0.95,\n",
        "                return_components: bool=False) -> tuple[Matrix, float]:\n",
        "    \"\"\"Без автоматического выбора k.\n",
        "    Args:\n",
        "        X (Matrix): матрица данных (n×m).\n",
        "        k (int): число главных компонент.\n",
        "        N_iters (int): кол-во итераций алгоритма.\n",
        "        threshold (float): порог объяснённой дисперсии (если выбираем k автоматически).\n",
        "        return_components (bool): вернуть ли компоненты.\n",
        "    Returns:\n",
        "        List(Matrix, Matrix, float): проекция данных (n×k),\n",
        "            матрица компонент, доля объяснённой дисперсии.\n",
        "    \"\"\"\n",
        "    if k > X.n_cols:\n",
        "        raise ValueError(\"Число k больше, чем число столбцов матрицы X.\")\n",
        "    X_centered = center_data(X)\n",
        "\n",
        "    X_cov = covariance_matrix(X_centered)\n",
        "\n",
        "    eigenvalues, eigenvectors = find_ev_evectors_pm(X_cov, k=k, N_iters=N_iters,\n",
        "                                      is_already_centered=True)\n",
        "\n",
        "    pca_components = Matrix(eigenvectors).transpose()\n",
        "\n",
        "    project_data = X_centered.multiply_by_matrix(pca_components)\n",
        "    dispersion_ratio = explained_variance_ratio(eigenvalues, k=k)\n",
        "    if return_components:\n",
        "        return [project_data, pca_components, dispersion_ratio]\n",
        "    return project_data, dispersion_ratio"
      ]
    },
    {
      "cell_type": "code",
      "execution_count": 34,
      "metadata": {
        "id": "pH_6vOmCwKEW"
      },
      "outputs": [],
      "source": [
        "def test_pca_with_pm_basic():\n",
        "    \"\"\"Проверяет базовый случай PCA с двумя признаками и k=1.\"\"\"\n",
        "    X = Matrix([[1, 2], [2, 3], [3, 4]])\n",
        "    k = 1\n",
        "    projected, ratio = pca_with_pm(X, k, N_iters=1000)\n",
        "    # Ожидаемые центрированные данные: [[-1, -1], [0, 0], [1, 1]]\n",
        "    # Главный компонент [1/sqrt(2), 1/sqrt(2)], Проекция: [-sqrt(2), 0, sqrt(2)]\n",
        "    expected_projection = [[-2**0.5], [0], [2**0.5]]\n",
        "    for i in range(len(projected)):\n",
        "        assert abs(projected[i][0] - expected_projection[i][0]) < 1e-10\n",
        "\n",
        "    assert ratio == 1.0\n",
        "\n",
        "def test_pca_with_pm_zero_variance():\n",
        "    \"\"\"Проверяет обработку случая, когда все данные одинаковы.\"\"\"\n",
        "    X = Matrix([[5, 5], [5, 5], [5, 5]])\n",
        "    k = 1\n",
        "    try:\n",
        "        pca_with_pm(X, k)\n",
        "        assert False, \"Ожидалась ZeroDivisionError\"\n",
        "    except ZeroDivisionError:\n",
        "        pass\n",
        "\n",
        "def test_pca_with_pm_invalid_k():\n",
        "    \"\"\"Проверяет обработку случая, когда k больше числа признаков.\"\"\"\n",
        "    X = Matrix([[1, 2], [3, 4]])\n",
        "    k = 3\n",
        "    try:\n",
        "        pca_with_pm(X, k)\n",
        "        assert False, \"Ожидалась ValueError\"\n",
        "    except ValueError:\n",
        "        pass\n",
        "\n",
        "def test_pca_with_pm_correct_projection_dimensions():\n",
        "    \"\"\"Проверяет корректность размерности проекции.\"\"\"\n",
        "    n, m, k = 5, 3, 2\n",
        "    X = Matrix([[float(i + j) for j in range(m)] for i in range(n)])\n",
        "    projected, _ = pca_with_pm(X, k)\n",
        "    assert len(projected) == n\n",
        "    assert len(projected[0]) == k\n",
        "\n",
        "def test_pca_with_pm_variance_ratio_multiple_components():\n",
        "    \"\"\"Проверяет долю дисперсии для нескольких компонент.\"\"\"\n",
        "    X = Matrix([[2, 0, 0], [4, 0, 0], [6, 0, 0], [8, 0, 0]])\n",
        "    k = 2\n",
        "    _, ratio = pca_with_pm(X, k)\n",
        "\n",
        "    assert ratio == 1.0\n",
        "\n",
        "test_pca_with_pm_basic()\n",
        "test_pca_with_pm_zero_variance()\n",
        "test_pca_with_pm_invalid_k()\n",
        "test_pca_with_pm_correct_projection_dimensions()\n",
        "test_pca_with_pm_variance_ratio_multiple_components()"
      ]
    },
    {
      "cell_type": "markdown",
      "metadata": {
        "id": "F8r2TVK9wKEW"
      },
      "source": [
        "# Задание (Expert): Исследовать влияние шума на PCA"
      ]
    },
    {
      "cell_type": "code",
      "execution_count": 35,
      "metadata": {
        "id": "7_b0Tsw6wKEW"
      },
      "outputs": [],
      "source": [
        "def add_noise_and_compare(X: Matrix, k: int, noise_level: float=0.1):\n",
        "    \"\"\"\n",
        "    Args:\n",
        "        X (Matrix): матрица данных (n×m)\n",
        "        noise_level (float): уровень шума (доля от стандартного отклонения)\n",
        "    Returns:\n",
        "        результаты PCA до и после добавления шума.\n",
        "    \"\"\"\n",
        "    stds = X.std()\n",
        "\n",
        "    noisy_data = []\n",
        "    for row in X.data:\n",
        "        noisy_row = [\n",
        "            val + random.gauss(0, 1) * noise_level * stds[j]\n",
        "            for j, val in enumerate(row)\n",
        "        ]\n",
        "        noisy_data.append(noisy_row)\n",
        "    X_noisy = Matrix(noisy_data)\n",
        "\n",
        "    proj_orig, var_orig = pca_with_pm(X, k=k)\n",
        "    proj_noisy, var_noisy = pca_with_pm(X_noisy, k=k)\n",
        "\n",
        "    return [proj_orig, var_orig, proj_noisy, var_noisy]"
      ]
    },
    {
      "cell_type": "code",
      "execution_count": 36,
      "metadata": {
        "colab": {
          "base_uri": "https://localhost:8080/"
        },
        "id": "rw0v9rrrwKEW",
        "outputId": "c879fb2a-6f5d-4e50-e18b-eab7ddb62eb3"
      },
      "outputs": [
        {
          "name": "stdout",
          "output_type": "stream",
          "text": [
            "Matrix(\n",
            " [-1.60577 -0.802309\n",
            "  -0.501399 1.142\n",
            "  2.10717 -0.33969])\n",
            "1.0\n",
            "Matrix(\n",
            " [-1.65732 -0.742049\n",
            "  -0.412943 1.11392\n",
            "  2.07026 -0.371868])\n",
            "1.0\n"
          ]
        }
      ],
      "source": [
        "X = Matrix([[1,0,0], [0,2,0], [0,2,3]])\n",
        "k = 2\n",
        "proj_orig, var_orig, proj_noisy, var_noisy = add_noise_and_compare(X, k)\n",
        "print(proj_orig)\n",
        "print(var_orig)\n",
        "print(proj_noisy)\n",
        "print(var_noisy)"
      ]
    },
    {
      "cell_type": "markdown",
      "metadata": {
        "id": "7F_G4nYywKEX"
      },
      "source": [
        "# Задание (Expert): Применить PCA к реальному датасету"
      ]
    },
    {
      "cell_type": "code",
      "execution_count": 37,
      "metadata": {
        "id": "HxAqVoEYwKEX"
      },
      "outputs": [],
      "source": [
        "from sklearn.datasets import load_digits, load_wine, load_breast_cancer\n",
        "from sklearn.model_selection import train_test_split\n",
        "from sklearn.linear_model import LogisticRegression\n",
        "from sklearn.metrics import accuracy_score\n",
        "\n",
        "def apply_pca_to_dataset(dataset_name: str, k: int,\n",
        "                         pca_type: str='bisection',\n",
        "                         N_iters: int=10,\n",
        "                         features_before_PCA: int=None) -> tuple[Matrix, float, float]:\n",
        "    \"\"\"\n",
        "    Args:\n",
        "        dataset_name (str): название датасета\n",
        "        k (int): число главных компонент\n",
        "        pca_type (str): какой метод для вычисления с.з. и с.в. использовать.\n",
        "            Доступны: {bisection, pm}\n",
        "        N_iters (int): кол-во итераций степенного метода, если используем его.\n",
        "        features_before_PCA (int): сколько признаков до PCA нужно оставить.\n",
        "    Retuns:\n",
        "        tuple(Matrix, float, float): проекция данных, качество модели с проекцией,\n",
        "            без PCA\n",
        "    \"\"\"\n",
        "    dataset_loader = {\n",
        "        'digits': load_digits,\n",
        "        'wine': load_wine,\n",
        "        'breast_cancer': load_breast_cancer\n",
        "    }.get(dataset_name.lower())\n",
        "\n",
        "    if not dataset_loader:\n",
        "        raise ValueError(f\"Датасет {dataset_name} не найден. Доступные варианты: {list(dataset_loader.keys())}\")\n",
        "\n",
        "    data = dataset_loader()\n",
        "    X, y = data.data, data.target\n",
        "\n",
        "    X_train, X_test, y_train, y_test = train_test_split(\n",
        "        X, y, test_size=0.2, random_state=42\n",
        "    )\n",
        "\n",
        "    if k > len(X[0]):\n",
        "        k = len(X[0])\n",
        "\n",
        "    # Если нужно уменьшить кол-во признаков\n",
        "    if features_before_PCA:\n",
        "        X_tr_comp = []\n",
        "        X_te_comp = []\n",
        "        for i in range(len(X_train)):\n",
        "            X_tr_comp.append(X_train[i][:features_before_PCA].tolist())\n",
        "        X_train = X_tr_comp\n",
        "        for i in range(len(X_test)):\n",
        "            X_te_comp.append(X_test[i][:features_before_PCA].tolist())\n",
        "        X_test = X_te_comp\n",
        "\n",
        "        matrix_X_train = Matrix(X_train)\n",
        "        matrix_X_test = Matrix(X_test)\n",
        "    else:\n",
        "        matrix_X_train = Matrix(X_train.tolist())\n",
        "        matrix_X_test = Matrix(X_test.tolist())\n",
        "\n",
        "    if pca_type == 'pm':\n",
        "        X_train_projected, pca_components, _ = pca_with_pm(matrix_X_train, k=k,\n",
        "                                                           return_components=True)\n",
        "    else:\n",
        "        X_train_projected, pca_components, _ = pca(matrix_X_train, k=k,\n",
        "                                                   return_components=True)\n",
        "\n",
        "    # Центрируем по train\n",
        "    X_test_centered = center_data(matrix_X_test, means=matrix_X_train.column_means())\n",
        "\n",
        "    X_test_projected = X_test_centered.multiply_by_matrix(pca_components)\n",
        "\n",
        "    # Обучение и оценка\n",
        "    logreg = LogisticRegression(max_iter=1000, random_state=42)\n",
        "    logreg.fit(X_train_projected.to_list(), y_train)\n",
        "    y_pred_proj = logreg.predict(X_test_projected.to_list())\n",
        "\n",
        "    logreg.fit(X_train, y_train)\n",
        "    y_pred_orig = logreg.predict(X_test)\n",
        "\n",
        "    X_all_projected = Matrix(X_train_projected.data + X_test_projected.data)\n",
        "\n",
        "    return [X_all_projected,\n",
        "            accuracy_score(y_test, y_pred_proj),\n",
        "            accuracy_score(y_test, y_pred_orig)]"
      ]
    },
    {
      "cell_type": "code",
      "execution_count": 38,
      "metadata": {
        "id": "1-UkH7IMwKEX"
      },
      "outputs": [],
      "source": [
        "import warnings\n",
        "from sklearn.exceptions import ConvergenceWarning\n",
        "\n",
        "warnings.filterwarnings(\"ignore\", category=ConvergenceWarning)"
      ]
    },
    {
      "cell_type": "code",
      "execution_count": 39,
      "metadata": {
        "colab": {
          "base_uri": "https://localhost:8080/"
        },
        "id": "Er6pgO6ewKEX",
        "outputId": "f409702e-1f1a-41fa-ed77-afd169bdb700"
      },
      "outputs": [
        {
          "name": "stdout",
          "output_type": "stream",
          "text": [
            "k = 1\n",
            "Accuracy до PCA: 0.944\n",
            "Accuracy после PCA: 0.528\n",
            "k = 2\n",
            "Accuracy до PCA: 0.944\n",
            "Accuracy после PCA: 0.694\n",
            "k = 3\n",
            "Accuracy до PCA: 0.944\n",
            "Accuracy после PCA: 0.694\n",
            "k = 4\n",
            "Accuracy до PCA: 0.944\n",
            "Accuracy после PCA: 0.694\n"
          ]
        }
      ],
      "source": [
        "for k in range(1,5):\n",
        "    projection, acc_proj, acc_orig = apply_pca_to_dataset('wine', k=k,\n",
        "                                                          pca_type='bisection',\n",
        "                                                          features_before_PCA=7)\n",
        "    print(f'k = {k}')\n",
        "    print(f\"Accuracy до PCA: {acc_orig:.3f}\")\n",
        "    print(f\"Accuracy после PCA: {acc_proj:.3f}\")"
      ]
    },
    {
      "cell_type": "code",
      "execution_count": 40,
      "metadata": {
        "colab": {
          "base_uri": "https://localhost:8080/"
        },
        "id": "qyqpQ0IMwKEX",
        "outputId": "79314039-d672-4ea3-e012-58cbb146ff04"
      },
      "outputs": [
        {
          "name": "stdout",
          "output_type": "stream",
          "text": [
            "k = 1\n",
            "Accuracy до PCA: 0.956\n",
            "Accuracy после PCA: 0.939\n",
            "k = 2\n",
            "Accuracy до PCA: 0.956\n",
            "Accuracy после PCA: 0.965\n",
            "k = 3\n",
            "Accuracy до PCA: 0.956\n",
            "Accuracy после PCA: 0.974\n",
            "k = 4\n",
            "Accuracy до PCA: 0.956\n",
            "Accuracy после PCA: 0.965\n"
          ]
        }
      ],
      "source": [
        "for k in range(1,5):\n",
        "    projection, acc_proj, acc_orig = apply_pca_to_dataset('breast_cancer', k=k,\n",
        "                                                          pca_type='pm')\n",
        "    print(f'k = {k}')\n",
        "    print(f\"Accuracy до PCA: {acc_orig:.3f}\")\n",
        "    print(f\"Accuracy после PCA: {acc_proj:.3f}\")"
      ]
    },
    {
      "cell_type": "code",
      "execution_count": 41,
      "metadata": {
        "colab": {
          "base_uri": "https://localhost:8080/",
          "height": 641
        },
        "id": "I-ygKkLnwKEX",
        "outputId": "30bc1820-f2f0-40b0-a2f8-5642d1fb514e"
      },
      "outputs": [
        {
          "data": {
            "image/png": "[encoded data removed]",
            "text/plain": [
              "<Figure size 700x700 with 1 Axes>"
            ]
          },
          "metadata": {},
          "output_type": "display_data"
        }
      ],
      "source": [
        "proj_2, _, _= apply_pca_to_dataset('wine', k=2, pca_type='bisection',\n",
        "                                   features_before_PCA=7)\n",
        "plot_pca_projection(proj_2)"
      ]
    },
    {
      "cell_type": "code",
      "execution_count": 42,
      "metadata": {
        "colab": {
          "base_uri": "https://localhost:8080/",
          "height": 641
        },
        "id": "oZ-fMvsJwKEY",
        "outputId": "49c97606-8f71-484d-b906-ba8a48886f6c"
      },
      "outputs": [
        {
          "data": {
            "image/png": "[encoded data removed]",
            "text/plain": [
              "<Figure size 700x700 with 1 Axes>"
            ]
          },
          "metadata": {},
          "output_type": "display_data"
        }
      ],
      "source": [
        "iris_proj_2, _, _= apply_pca_to_dataset('wine', k=2, pca_type='pm')\n",
        "plot_pca_projection(iris_proj_2)"
      ]
    },
    {
      "cell_type": "code",
      "execution_count": null,
      "metadata": {
        "id": "NzPlHlQjwKEY"
      },
      "outputs": [],
      "source": []
    }
  ],
  "metadata": {
    "colab": {
      "provenance": []
    },
    "kernelspec": {
      "display_name": "Python 3",
      "name": "python3"
    },
    "language_info": {
      "codemirror_mode": {
        "name": "ipython",
        "version": 3
      },
      "file_extension": ".py",
      "mimetype": "text/x-python",
      "name": "python",
      "nbconvert_exporter": "python",
      "pygments_lexer": "ipython3",
      "version": "3.10.11"
    }
  },
  "nbformat": 4,
  "nbformat_minor": 0
}
